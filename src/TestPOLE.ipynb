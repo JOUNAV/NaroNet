{
 "cells": [
  {
   "cell_type": "code",
   "execution_count": null,
   "metadata": {},
   "outputs": [],
   "source": [
    "from NaroNet.utils.DatasetParameters import parameters\n",
    "from NaroNet.Patch_Contrastive_Learning.patch_contrastive_learning import patch_contrastive_learning\n",
    "from NaroNet.Patch_Contrastive_Learning.preprocess_images import preprocess_images\n",
    "from NaroNet.architecture_search.architecture_search import architecture_search\n",
    "from NaroNet.NaroNet import run_NaroNet\n",
    "from NaroNet.NaroNet_dataset import get_BioInsights\n",
    "\n",
    "path = '/home/jo/Images/Example_POLE/'\n",
    "\n",
    "# Select Experiment parameters\n",
    "params = parameters(path, 'Value')\n",
    "possible_params = parameters(path, 'Object')\n",
    "best_params = parameters(path, 'Index')"
   ]
  },
  {
   "cell_type": "code",
   "execution_count": null,
   "metadata": {},
   "outputs": [],
   "source": [
    "# Preprocess Images\n",
    "preprocess_images(path,params['PCL_ZscoreNormalization'],params['PCL_patch_size'])"
   ]
  },
  {
   "cell_type": "code",
   "execution_count": null,
   "metadata": {},
   "outputs": [],
   "source": [
    "import sys\n",
    "from absl import app\n",
    "\n",
    "# Addresses 'UnrecognizedFlagError: Unknown command line flag 'f''\n",
    "sys.argv = sys.argv[:1]\n",
    "\n",
    "# 'app.run' calls 'sys.exit'\n",
    "try:\n",
    "\tapp.run(lambda argv: None)\n",
    "except:\n",
    "\tpass\n",
    "\n",
    "\n",
    "# Patch Contrastive Learning\n",
    "patch_contrastive_learning(path,params) "
   ]
  },
  {
   "cell_type": "code",
   "execution_count": null,
   "metadata": {},
   "outputs": [],
   "source": [
    "# Architecture Search\n",
    "params = architecture_search(path,params,possible_params)"
   ]
  },
  {
   "cell_type": "code",
   "execution_count": null,
   "metadata": {},
   "outputs": [],
   "source": [
    "run_NaroNet(path,params)"
   ]
  },
  {
   "cell_type": "code",
   "execution_count": null,
   "metadata": {},
   "outputs": [],
   "source": [
    "# BioInsights\n",
    "get_BioInsights(path,params)"
   ]
  }
 ],
 "metadata": {
  "kernelspec": {
   "display_name": "NaroNetgit",
   "language": "python",
   "name": "python3"
  },
  "language_info": {
   "codemirror_mode": {
    "name": "ipython",
    "version": 3
   },
   "file_extension": ".py",
   "mimetype": "text/x-python",
   "name": "python",
   "nbconvert_exporter": "python",
   "pygments_lexer": "ipython3",
   "version": "3.8.18"
  }
 },
 "nbformat": 4,
 "nbformat_minor": 2
}
